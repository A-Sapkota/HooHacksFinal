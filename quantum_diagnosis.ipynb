{
 "cells": [
  {
   "cell_type": "code",
   "execution_count": 10,
   "metadata": {},
   "outputs": [],
   "source": [
    "from qiskit_aer import qasm_simulator, Aer\n",
    "from qiskit_algorithms import Grover, AmplificationProblem\n",
    "from qiskit.circuit.library import PhaseOracle\n",
    "from qiskit.visualization import plot_histogram\n",
    "from qiskit.primitives import Sampler"
   ]
  },
  {
   "cell_type": "code",
   "execution_count": 11,
   "metadata": {},
   "outputs": [],
   "source": [
    "log_expr = log_expr = '(~fever & ~rash & insomnia & tremors & ~jerks)'"
   ]
  },
  {
   "cell_type": "code",
   "execution_count": 12,
   "metadata": {},
   "outputs": [],
   "source": [
    "oracle = PhaseOracle(log_expr)\n",
    "problem = AmplificationProblem(oracle)"
   ]
  },
  {
   "cell_type": "code",
   "execution_count": 13,
   "metadata": {},
   "outputs": [
    {
     "name": "stderr",
     "output_type": "stream",
     "text": [
      "C:\\Users\\Saary\\AppData\\Local\\Temp\\ipykernel_29184\\1630342758.py:2: DeprecationWarning: The class ``qiskit.primitives.sampler.Sampler`` is deprecated as of qiskit 1.2. It will be removed no earlier than 3 months after the release date. All implementations of the `BaseSamplerV1` interface have been deprecated in favor of their V2 counterparts. The V2 alternative for the `Sampler` class is `StatevectorSampler`.\n",
      "  sampler = Sampler()\n"
     ]
    }
   ],
   "source": [
    "backend = Aer.get_backend('qasm_simulator')\n",
    "sampler = Sampler()"
   ]
  },
  {
   "cell_type": "code",
   "execution_count": 14,
   "metadata": {},
   "outputs": [],
   "source": [
    "grover = Grover(sampler=sampler)\n",
    "result = grover.amplify(problem)"
   ]
  },
  {
   "cell_type": "code",
   "execution_count": null,
   "metadata": {},
   "outputs": [
    {
     "name": "stdout",
     "output_type": "stream",
     "text": [
      "Histogram 1:\n",
      "Largest values:\n",
      "01100: 0.2583007812499988\n",
      "\n"
     ]
    }
   ],
   "source": [
    "histogram_data=result.circuit_results\n",
    "\n",
    "for i, histogram in enumerate(histogram_data):\n",
    "    \n",
    "    max_value = max(histogram.values())\n",
    "    \n",
    "   \n",
    "    largest_values = {key: value for key, value in histogram.items() if value == max_value}\n",
    "    \n",
    "    \n",
    "    print(f\"Histogram {i + 1}:\")\n",
    "    print(\"Largest values:\")\n",
    "    for key, value in largest_values.items():\n",
    "        print(f\"{key}: {value}\")\n",
    "    print()\n",
    "\n",
    "max_value = max(histogram.values())\n",
    "\n",
    "largest_values = {key: value for key, value in histogram.items() if value == max_value}"
   ]
  },
  {
   "cell_type": "code",
   "execution_count": null,
   "metadata": {},
   "outputs": [
    {
     "name": "stdout",
     "output_type": "stream",
     "text": [
      "Winning states:\n",
      "['01100']\n"
     ]
    }
   ],
   "source": [
    "\n",
    "winning_states = []\n",
    "\n",
    "\n",
    "for histogram in histogram_data:\n",
    "   \n",
    "    max_value = max(histogram.values())\n",
    "    \n",
    "    states = [key for key, value in histogram.items() if value == max_value]\n",
    "    \n",
    "    winning_states.extend(states)\n",
    "\n",
    "print(\"Winning states:\")\n",
    "print(winning_states)"
   ]
  },
  {
   "cell_type": "code",
   "execution_count": null,
   "metadata": {},
   "outputs": [],
   "source": [
    "def sickness_lookup(inputs):\n",
    "\n",
    "    sickness_dict = {\n",
    "    '00000': 'Patient Healthy',\n",
    "    '00001': 'Influenza',\n",
    "    '00010': 'Allergic Reaction',\n",
    "    '00011': 'Small Pox',\n",
    "    '00100': 'Insomniac',\n",
    "    '00101': 'Rabies',\n",
    "    '00110': 'Plague',\n",
    "    '00111': 'Typhoid',\n",
    "    '01000': 'Active Tremor',\n",
    "    '01001': 'Malaria',\n",
    "    '01010': 'Lupus',\n",
    "    '01011': 'West Nile Virus or Zika',\n",
    "    '01100': 'Parkinson',\n",
    "    '01101': 'Hyperthyroidism',\n",
    "    '01110': 'Late Stage AIDs',\n",
    "    '01111': 'DRESS Syndrome (Drug Reaction)',\n",
    "    '10000': 'Myoclonus',\n",
    "    '10001': 'Bacterial Meningitis',\n",
    "    '10010': 'Multiple Sclerosis',\n",
    "    '10011': 'Spotted Fever',\n",
    "    '10100': 'Creutzfeldt-Jakob Disease',\n",
    "    '10101': 'Serotonin Syndrome',\n",
    "    '10110': 'Stevens Johnsons Syndrome',\n",
    "    '10111': 'Neurotoxic Drug Reaction',\n",
    "    '11000': 'Progressive Myoclonic Epilepsies',\n",
    "    '11001': 'Mitochondrial Disorder',\n",
    "    '11010': 'Heavy Metal Poisoning',\n",
    "    '11011': 'Acute HIV',\n",
    "    '11100': 'Restless Legs Syndrome',\n",
    "    '11101': 'Thyrotoxic Crisis',\n",
    "    '11110': 'MDMA Overdose',\n",
    "    '11111':'Acute Disseminated Encephalomyelitis'\n",
    "}\n",
    "    \n",
    "    results = []\n",
    "    \n",
    "\n",
    "    for code in inputs:\n",
    "        results.append(sickness_dict.get(code, 'Nothing Found'))\n",
    "    \n",
    "    return results\n"
   ]
  },
  {
   "cell_type": "code",
   "execution_count": 18,
   "metadata": {},
   "outputs": [],
   "source": [
    "final_result = sickness_lookup(winning_states)"
   ]
  }
 ],
 "metadata": {
  "kernelspec": {
   "display_name": "Python 3",
   "language": "python",
   "name": "python3"
  },
  "language_info": {
   "codemirror_mode": {
    "name": "ipython",
    "version": 3
   },
   "file_extension": ".py",
   "mimetype": "text/x-python",
   "name": "python",
   "nbconvert_exporter": "python",
   "pygments_lexer": "ipython3",
   "version": "3.12.4"
  }
 },
 "nbformat": 4,
 "nbformat_minor": 2
}
